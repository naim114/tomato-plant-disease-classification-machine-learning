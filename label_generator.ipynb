{
 "cells": [
  {
   "cell_type": "code",
   "execution_count": 1,
   "metadata": {},
   "outputs": [],
   "source": [
    "# Your dictionary of class names and indices\n",
    "class_dict = {\n",
    "    'Tomato_Bacterial_spot': 0,\n",
    "    'Tomato_Early_blight': 1,\n",
    "    'Tomato_Late_blight': 2,\n",
    "    'Tomato_Leaf_Mold': 3,\n",
    "    'Tomato_Septoria_leaf_spot': 4,\n",
    "    'Tomato_Spider_mites_Two_spotted_spider_mite': 5,\n",
    "    'Tomato__Target_Spot': 6,\n",
    "    'Tomato__Tomato_YellowLeaf__Curl_Virus': 7,\n",
    "    'Tomato__Tomato_mosaic_virus': 8,\n",
    "    'Tomato_healthy': 9\n",
    "}\n",
    "\n",
    "# Create a list to hold the class names, sorted by their index\n",
    "labels = [None] * len(class_dict)\n",
    "for key, value in class_dict.items():\n",
    "    labels[value] = key\n",
    "\n",
    "# Write the labels to a file\n",
    "with open('labels.txt', 'w') as f:\n",
    "    for label in labels:\n",
    "        f.write(f\"{label}\\n\")\n"
   ]
  }
 ],
 "metadata": {
  "kernelspec": {
   "display_name": "tf",
   "language": "python",
   "name": "python3"
  },
  "language_info": {
   "codemirror_mode": {
    "name": "ipython",
    "version": 3
   },
   "file_extension": ".py",
   "mimetype": "text/x-python",
   "name": "python",
   "nbconvert_exporter": "python",
   "pygments_lexer": "ipython3",
   "version": "3.9.19 (main, Mar 21 2024, 17:21:27) [MSC v.1916 64 bit (AMD64)]"
  },
  "orig_nbformat": 4,
  "vscode": {
   "interpreter": {
    "hash": "5de0d89323d0daf4000fb2be5e23b1798d5346fa579c2016b6b23a35c228cbaf"
   }
  }
 },
 "nbformat": 4,
 "nbformat_minor": 2
}
